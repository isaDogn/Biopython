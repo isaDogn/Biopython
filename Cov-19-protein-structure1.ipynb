{
 "cells": [
  {
   "cell_type": "code",
   "execution_count": 77,
   "id": "a804b853-c802-4bf3-a6ce-f000084655ff",
   "metadata": {},
   "outputs": [],
   "source": [
    "from Bio import Entrez, SeqIO, SearchIO"
   ]
  },
  {
   "cell_type": "code",
   "execution_count": 78,
   "id": "25ba8e71-71ea-4d21-b08f-f2dccbdf4e92",
   "metadata": {},
   "outputs": [
    {
     "data": {
      "text/plain": [
       "[SeqRecord(seq=Seq('ATTAAAGGTTTATACCTTCCCAGGTAACAAACCAACCAACTTTCGATCTCTTGT...AAA'), id='MN908947.3', name='MN908947', description='Severe acute respiratory syndrome coronavirus 2 isolate Wuhan-Hu-1, complete genome', dbxrefs=[])]"
      ]
     },
     "execution_count": 78,
     "metadata": {},
     "output_type": "execute_result"
    }
   ],
   "source": [
    "Entrez.email =\"isadogan03@gmail.com\"\n",
    "hand = Entrez.efetch(db =\"nucleotide\" , id= \"MN908947\" , retmode=\"gb\", rettype = \"text\")\n",
    "cov_recs = list(SeqIO.parse(hand , \"gb\"))\n",
    "hand.close()\n",
    "cov_recs"
   ]
  },
  {
   "cell_type": "code",
   "execution_count": 79,
   "id": "21c6274f-bdc5-4352-aa06-592a328f54fa",
   "metadata": {},
   "outputs": [
    {
     "data": {
      "text/plain": [
       "Seq('ATTAAAGGTTTATACCTTCCCAGGTAACAAACCAACCAACTTTCGATCTCTTGT...AAA')"
      ]
     },
     "execution_count": 79,
     "metadata": {},
     "output_type": "execute_result"
    }
   ],
   "source": [
    "cov_dna= cov_recs[0].seq\n",
    "cov_dna"
   ]
  },
  {
   "cell_type": "code",
   "execution_count": 80,
   "id": "ed000a96-46fc-44f8-b51a-df35e97b53fc",
   "metadata": {},
   "outputs": [
    {
     "name": "stdout",
     "output_type": "stream",
     "text": [
      "Genome consist of 29903 nuclotides.\n"
     ]
    }
   ],
   "source": [
    "print(f\"Genome consist of {len(cov_dna)} nuclotides.\")"
   ]
  },
  {
   "cell_type": "code",
   "execution_count": 81,
   "id": "504483ed-87e6-4fb4-9065-3211405da789",
   "metadata": {},
   "outputs": [
    {
     "data": {
      "text/plain": [
       "Seq('AUUAAAGGUUUAUACCUUCCCAGGUAACAAACCAACCAACUUUCGAUCUCUUGU...AAA')"
      ]
     },
     "execution_count": 81,
     "metadata": {},
     "output_type": "execute_result"
    }
   ],
   "source": [
    "cov_mrna = cov_dna.transcribe()\n",
    "cov_mrna"
   ]
  },
  {
   "cell_type": "code",
   "execution_count": 82,
   "id": "18c2c96c-ec05-46b0-9641-3c65dc40701b",
   "metadata": {},
   "outputs": [
    {
     "data": {
      "text/plain": [
       "Seq('IKGLYLPR*QTNQLSISCRSVL*TNFKICVAVTRLHA*CTHAV*LITNYCR*QD...KKK')"
      ]
     },
     "execution_count": 82,
     "metadata": {},
     "output_type": "execute_result"
    }
   ],
   "source": [
    "cov_aa = cov_mrna.translate()\n",
    "cov_aa"
   ]
  },
  {
   "cell_type": "code",
   "execution_count": 127,
   "id": "26671c60-d24b-4b39-88d1-e768b4d86d43",
   "metadata": {
    "scrolled": true
   },
   "outputs": [
    {
     "data": {
      "text/plain": [
       "[Seq('IKGLYLPR'),\n",
       " Seq('QTNQLSISCRSVL'),\n",
       " Seq('TNFKICVAVTRLHA'),\n",
       " Seq('CTHAV'),\n",
       " Seq('LITNYCR'),\n",
       " Seq('QDTSNSSIFCRLLTVSSVLQPIISTSRFRPGVTER'),\n",
       " Seq('DGEPCPWFQRENTRPTQFACFTGSRRARTWLWRLRGGGLIRGTSTS'),\n",
       " Seq('RWHLWLSRS'),\n",
       " Seq('KRRFAST'),\n",
       " Seq('TALCVHQTFGCSNCTSWSCYG')]"
      ]
     },
     "execution_count": 127,
     "metadata": {},
     "output_type": "execute_result"
    }
   ],
   "source": [
    "cov_proteins =  cov_aa.split(\"*\")\n",
    "cov_proteins[:10]"
   ]
  },
  {
   "cell_type": "code",
   "execution_count": 84,
   "id": "68d8e137-f1d1-4776-b035-c856d5ca6607",
   "metadata": {},
   "outputs": [],
   "source": [
    "sorted_proteins = sorted(cov_proteins, key=len)"
   ]
  },
  {
   "cell_type": "code",
   "execution_count": 85,
   "id": "2ab15123-ed48-42f2-94a7-3645eb5f7f5e",
   "metadata": {},
   "outputs": [
    {
     "data": {
      "text/plain": [
       "Seq('CTIVFKRVCGVSAARLTPCGTGTSTDVVYRAFDIYNDKVAGFAKFLKTNCCRFQ...VNN')"
      ]
     },
     "execution_count": 85,
     "metadata": {},
     "output_type": "execute_result"
    }
   ],
   "source": [
    "sorted_proteins[-1]"
   ]
  },
  {
   "cell_type": "code",
   "execution_count": 86,
   "id": "7e90d6e3-fc7e-45fe-844b-efa8242c3795",
   "metadata": {},
   "outputs": [],
   "source": [
    "from Bio.Blast import NCBIWWW"
   ]
  },
  {
   "cell_type": "code",
   "execution_count": 115,
   "id": "8b526134-5dc5-4cc9-990f-77cd37061354",
   "metadata": {},
   "outputs": [],
   "source": [
    "result = NCBIWWW.qblast(\"blastp\", \"pdb\", sorted_proteins[-1])"
   ]
  },
  {
   "cell_type": "code",
   "execution_count": 116,
   "id": "08b5a71e-7360-410c-81c0-b960b6baa47d",
   "metadata": {},
   "outputs": [],
   "source": [
    "blast = SearchIO.read(result, \"blast-xml\")"
   ]
  },
  {
   "cell_type": "code",
   "execution_count": 128,
   "id": "ad4c58fe-e03b-4050-8857-36d51302b5b0",
   "metadata": {
    "scrolled": true
   },
   "outputs": [
    {
     "name": "stdout",
     "output_type": "stream",
     "text": [
      "Program: blastp (2.16.0+)\n",
      "  Query: unnamed (2701)\n",
      "         protein product\n",
      " Target: pdb\n",
      "   Hits: ----  -----  ----------------------------------------------------------\n",
      "            #  # HSP  ID + description\n",
      "         ----  -----  ----------------------------------------------------------\n",
      "            0      1  pdb|7D4F|A  Chain A, RNA-directed RNA polymerase [Sever...\n",
      "            1      1  pdb|6YYT|A  Chain A, nsp12 [Severe acute respiratory sy...\n",
      "            2      1  pdb|6XEZ|A  Chain A, RNA-directed RNA polymerase [Sever...\n",
      "            3      1  pdb|7BW4|A  Chain A, RNA-directed RNA polymerase [Sever...\n",
      "            4      1  pdb|6XQB|A  Chain A, RNA-directed RNA polymerase [Sever...\n"
     ]
    }
   ],
   "source": [
    "print(blast[:5])"
   ]
  },
  {
   "cell_type": "code",
   "execution_count": 129,
   "id": "2e65c8a0-4cb2-4a96-a790-51c57f0fa72d",
   "metadata": {
    "scrolled": true
   },
   "outputs": [
    {
     "name": "stdout",
     "output_type": "stream",
     "text": [
      "ID: pdb|7D4F|A\n",
      "Descrition: Chain A, RNA-directed RNA polymerase [Severe acute respiratory syndrome coronavirus 2]\n",
      "Evalue: 0.0\n",
      "Bit score: 1938.7\n",
      "Aligment: Alignment with 2 rows and 926 columns\n",
      "FKRVCGVSAARLTPCGTGTSTDVVYRAFDIYNDKVAGFAKFLKT...LQA unnamed\n",
      "LNRVCGVSAARLTPCGTGTSTDVVYRAFDIYNDKVAGFAKFLKT...LQG pdb|7D4F|A\n",
      "\n",
      "ID: pdb|6YYT|A\n",
      "Descrition: Chain A, nsp12 [Severe acute respiratory syndrome coronavirus 2]\n",
      "Evalue: 0.0\n",
      "Bit score: 1938.31\n",
      "Aligment: Alignment with 2 rows and 925 columns\n",
      "FKRVCGVSAARLTPCGTGTSTDVVYRAFDIYNDKVAGFAKFLKT...VLQ unnamed\n",
      "LNRVCGVSAARLTPCGTGTSTDVVYRAFDIYNDKVAGFAKFLKT...VLQ pdb|6YYT|A\n",
      "\n",
      "ID: pdb|6XEZ|A\n",
      "Descrition: Chain A, RNA-directed RNA polymerase [Severe acute respiratory syndrome coronavirus 2]\n",
      "Evalue: 0.0\n",
      "Bit score: 1937.92\n",
      "Aligment: Alignment with 2 rows and 925 columns\n",
      "FKRVCGVSAARLTPCGTGTSTDVVYRAFDIYNDKVAGFAKFLKT...VLQ unnamed\n",
      "LNRVCGVSAARLTPCGTGTSTDVVYRAFDIYNDKVAGFAKFLKT...VLQ pdb|6XEZ|A\n",
      "\n",
      "ID: pdb|7BW4|A\n",
      "Descrition: Chain A, RNA-directed RNA polymerase [Severe acute respiratory syndrome coronavirus 2]\n",
      "Evalue: 0.0\n",
      "Bit score: 1937.15\n",
      "Aligment: Alignment with 2 rows and 923 columns\n",
      "RVCGVSAARLTPCGTGTSTDVVYRAFDIYNDKVAGFAKFLKTNC...VLQ unnamed\n",
      "RVCGVSAARLTPCGTGTSTDVVYRAFDIYNDKVAGFAKFLKTNC...VLQ pdb|7BW4|A\n",
      "\n",
      "ID: pdb|6XQB|A\n",
      "Descrition: Chain A, RNA-directed RNA polymerase [Severe acute respiratory syndrome coronavirus 2]\n",
      "Evalue: 0.0\n",
      "Bit score: 1937.15\n",
      "Aligment: Alignment with 2 rows and 925 columns\n",
      "FKRVCGVSAARLTPCGTGTSTDVVYRAFDIYNDKVAGFAKFLKT...VLQ unnamed\n",
      "LNRVCGVSAARLTPCGTGTSTDVVYRAFDIYNDKVAGFAKFLKT...VLQ pdb|6XQB|A\n",
      "\n"
     ]
    }
   ],
   "source": [
    "for record in blast[:5]:\n",
    "    print(f\"ID: {record.id}\")\n",
    "    print(f\"Descrition: {record.description}\")\n",
    "    print(f\"Evalue: {record[0].evalue}\")\n",
    "    print(f\"Bit score: {record[0].bitscore}\")\n",
    "    print(f\"Aligment: {record[0].aln}\")\n",
    "    print()"
   ]
  },
  {
   "cell_type": "code",
   "execution_count": 109,
   "id": "8419e73a-39be-40fc-89da-6b844e621692",
   "metadata": {},
   "outputs": [
    {
     "name": "stdout",
     "output_type": "stream",
     "text": [
      "--2024-07-11 18:07:53--  https://files.rcsb.org/download/7CI3.pdb\n",
      "Resolving files.rcsb.org (files.rcsb.org)... 128.6.159.157\n",
      "Connecting to files.rcsb.org (files.rcsb.org)|128.6.159.157|:443... connected.\n",
      "HTTP request sent, awaiting response... 200 OK\n",
      "Length: unspecified [application/octet-stream]\n",
      "Saving to: ‘7CI3.pdb’\n",
      "\n",
      "7CI3.pdb                [  <=>               ]  65.89K   229KB/s    in 0.3s    \n",
      "\n",
      "2024-07-11 18:07:54 (229 KB/s) - ‘7CI3.pdb’ saved [67473]\n",
      "\n"
     ]
    }
   ],
   "source": [
    "!wget https://files.rcsb.org/download/7D4F.pdb"
   ]
  },
  {
   "cell_type": "code",
   "execution_count": 110,
   "id": "67d5e7e3-de1a-4584-b9d9-bde5ee888e4b",
   "metadata": {},
   "outputs": [],
   "source": [
    "from Bio.PDB import PDBParser"
   ]
  },
  {
   "cell_type": "code",
   "execution_count": 120,
   "id": "39500e65-14d8-4eb4-ba91-1365aaedc65f",
   "metadata": {},
   "outputs": [
    {
     "data": {
      "text/plain": [
       "<Structure id=7D4F>"
      ]
     },
     "execution_count": 120,
     "metadata": {},
     "output_type": "execute_result"
    }
   ],
   "source": [
    "parser = PDBParser()\n",
    "structure = parser.get_structure(\"7D4F\", \"7D4F.pdb\")\n",
    "structure"
   ]
  },
  {
   "cell_type": "code",
   "execution_count": 124,
   "id": "7835987d-1b1c-4d9b-8f89-190fba4e93c9",
   "metadata": {},
   "outputs": [
    {
     "name": "stdout",
     "output_type": "stream",
     "text": [
      "chain id: B\n",
      "chain id: C\n",
      "chain id: G\n",
      "chain id: A\n"
     ]
    }
   ],
   "source": [
    "for chain in structure[0]:\n",
    "    print(f\"chain id: {chain.id}\")"
   ]
  },
  {
   "cell_type": "code",
   "execution_count": 125,
   "id": "853e474b-235a-4319-870e-536498cd7c53",
   "metadata": {},
   "outputs": [],
   "source": [
    "import nglview as nv"
   ]
  },
  {
   "cell_type": "code",
   "execution_count": 126,
   "id": "0132255f-d408-4e65-82b4-4d77b73859b3",
   "metadata": {},
   "outputs": [
    {
     "data": {
      "application/vnd.jupyter.widget-view+json": {
       "model_id": "780b0a6b55224de698704cf954e962f2",
       "version_major": 2,
       "version_minor": 0
      },
      "text/plain": [
       "NGLWidget()"
      ]
     },
     "metadata": {},
     "output_type": "display_data"
    },
    {
     "data": {
      "application/vnd.jupyter.widget-view+json": {
       "model_id": "86ea8e8a42ad47d99fdb60fe854e6e50",
       "version_major": 2,
       "version_minor": 0
      },
      "text/plain": [
       "Tab(children=(Box(children=(Box(children=(Box(children=(Label(value='step'), IntSlider(value=1, min=-100)), la…"
      ]
     },
     "metadata": {},
     "output_type": "display_data"
    }
   ],
   "source": [
    "nv.show_biopython(structure, gui=True) "
   ]
  }
 ],
 "metadata": {
  "kernelspec": {
   "display_name": "Python 3 (ipykernel)",
   "language": "python",
   "name": "python3"
  },
  "language_info": {
   "codemirror_mode": {
    "name": "ipython",
    "version": 3
   },
   "file_extension": ".py",
   "mimetype": "text/x-python",
   "name": "python",
   "nbconvert_exporter": "python",
   "pygments_lexer": "ipython3",
   "version": "3.12.3"
  }
 },
 "nbformat": 4,
 "nbformat_minor": 5
}
