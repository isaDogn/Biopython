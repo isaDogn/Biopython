{
 "cells": [
  {
   "cell_type": "code",
   "execution_count": 2,
   "id": "a804b853-c802-4bf3-a6ce-f000084655ff",
   "metadata": {},
   "outputs": [],
   "source": [
    "from Bio import Entrez, SeqIO, SearchIO"
   ]
  },
  {
   "cell_type": "code",
   "execution_count": 3,
   "id": "25ba8e71-71ea-4d21-b08f-f2dccbdf4e92",
   "metadata": {},
   "outputs": [
    {
     "data": {
      "text/plain": [
       "[SeqRecord(seq=Seq('ATTAAAGGTTTATACCTTCCCAGGTAACAAACCAACCAACTTTCGATCTCTTGT...AAA'), id='MN908947.3', name='MN908947', description='Severe acute respiratory syndrome coronavirus 2 isolate Wuhan-Hu-1, complete genome', dbxrefs=[])]"
      ]
     },
     "execution_count": 3,
     "metadata": {},
     "output_type": "execute_result"
    }
   ],
   "source": [
    "Entrez.email =\"isadogan03@gmail.com\"\n",
    "hand = Entrez.efetch(db =\"nucleotide\" , id= \"MN908947\" , retmode=\"gb\", rettype = \"text\")\n",
    "cov_recs = list(SeqIO.parse(hand , \"gb\"))\n",
    "hand.close()\n",
    "cov_recs"
   ]
  },
  {
   "cell_type": "code",
   "execution_count": 4,
   "id": "21c6274f-bdc5-4352-aa06-592a328f54fa",
   "metadata": {},
   "outputs": [
    {
     "data": {
      "text/plain": [
       "Seq('ATTAAAGGTTTATACCTTCCCAGGTAACAAACCAACCAACTTTCGATCTCTTGT...AAA')"
      ]
     },
     "execution_count": 4,
     "metadata": {},
     "output_type": "execute_result"
    }
   ],
   "source": [
    "cov_dna= cov_recs[0].seq\n",
    "cov_dna"
   ]
  },
  {
   "cell_type": "code",
   "execution_count": 5,
   "id": "ed000a96-46fc-44f8-b51a-df35e97b53fc",
   "metadata": {},
   "outputs": [
    {
     "name": "stdout",
     "output_type": "stream",
     "text": [
      "Genome consist of 29903 nuclotides.\n"
     ]
    }
   ],
   "source": [
    "print(f\"Genome consist of {len(cov_dna)} nuclotides.\")"
   ]
  },
  {
   "cell_type": "code",
   "execution_count": 6,
   "id": "504483ed-87e6-4fb4-9065-3211405da789",
   "metadata": {},
   "outputs": [
    {
     "data": {
      "text/plain": [
       "Seq('AUUAAAGGUUUAUACCUUCCCAGGUAACAAACCAACCAACUUUCGAUCUCUUGU...AAA')"
      ]
     },
     "execution_count": 6,
     "metadata": {},
     "output_type": "execute_result"
    }
   ],
   "source": [
    "cov_mrna = cov_dna.transcribe()\n",
    "cov_mrna"
   ]
  },
  {
   "cell_type": "code",
   "execution_count": 7,
   "id": "18c2c96c-ec05-46b0-9641-3c65dc40701b",
   "metadata": {},
   "outputs": [
    {
     "name": "stderr",
     "output_type": "stream",
     "text": [
      "/home/isa/anaconda3/envs/bio/lib/python3.12/site-packages/Bio/Seq.py:2879: BiopythonWarning: Partial codon, len(sequence) not a multiple of three. Explicitly trim the sequence or add trailing N before translation. This may become an error in future.\n",
      "  warnings.warn(\n"
     ]
    },
    {
     "data": {
      "text/plain": [
       "Seq('IKGLYLPR*QTNQLSISCRSVL*TNFKICVAVTRLHA*CTHAV*LITNYCR*QD...KKK')"
      ]
     },
     "execution_count": 7,
     "metadata": {},
     "output_type": "execute_result"
    }
   ],
   "source": [
    "cov_aa = cov_mrna.translate()\n",
    "cov_aa"
   ]
  },
  {
   "cell_type": "code",
   "execution_count": 8,
   "id": "26671c60-d24b-4b39-88d1-e768b4d86d43",
   "metadata": {
    "scrolled": true
   },
   "outputs": [
    {
     "data": {
      "text/plain": [
       "[Seq('IKGLYLPR'),\n",
       " Seq('QTNQLSISCRSVL'),\n",
       " Seq('TNFKICVAVTRLHA'),\n",
       " Seq('CTHAV'),\n",
       " Seq('LITNYCR'),\n",
       " Seq('QDTSNSSIFCRLLTVSSVLQPIISTSRFRPGVTER'),\n",
       " Seq('DGEPCPWFQRENTRPTQFACFTGSRRARTWLWRLRGGGLIRGTSTS'),\n",
       " Seq('RWHLWLSRS'),\n",
       " Seq('KRRFAST'),\n",
       " Seq('TALCVHQTFGCSNCTSWSCYG')]"
      ]
     },
     "execution_count": 8,
     "metadata": {},
     "output_type": "execute_result"
    }
   ],
   "source": [
    "cov_proteins =  cov_aa.split(\"*\")\n",
    "cov_proteins[:10]"
   ]
  },
  {
   "cell_type": "code",
   "execution_count": 9,
   "id": "68d8e137-f1d1-4776-b035-c856d5ca6607",
   "metadata": {},
   "outputs": [],
   "source": [
    "sorted_proteins = sorted(cov_proteins, key=len)"
   ]
  },
  {
   "cell_type": "code",
   "execution_count": 10,
   "id": "2ab15123-ed48-42f2-94a7-3645eb5f7f5e",
   "metadata": {},
   "outputs": [
    {
     "data": {
      "text/plain": [
       "Seq('CTIVFKRVCGVSAARLTPCGTGTSTDVVYRAFDIYNDKVAGFAKFLKTNCCRFQ...VNN')"
      ]
     },
     "execution_count": 10,
     "metadata": {},
     "output_type": "execute_result"
    }
   ],
   "source": [
    "sorted_proteins[-1]"
   ]
  },
  {
   "cell_type": "code",
   "execution_count": 11,
   "id": "7e90d6e3-fc7e-45fe-844b-efa8242c3795",
   "metadata": {},
   "outputs": [],
   "source": [
    "from Bio.Blast import NCBIWWW"
   ]
  },
  {
   "cell_type": "code",
   "execution_count": 13,
   "id": "8b526134-5dc5-4cc9-990f-77cd37061354",
   "metadata": {},
   "outputs": [],
   "source": [
    "result = NCBIWWW.qblast(\"blastp\", \"pdb\", sorted_proteins[-3])"
   ]
  },
  {
   "cell_type": "code",
   "execution_count": 14,
   "id": "08b5a71e-7360-410c-81c0-b960b6baa47d",
   "metadata": {},
   "outputs": [],
   "source": [
    "blast = SearchIO.read(result, \"blast-xml\")"
   ]
  },
  {
   "cell_type": "code",
   "execution_count": 15,
   "id": "ad4c58fe-e03b-4050-8857-36d51302b5b0",
   "metadata": {
    "scrolled": true
   },
   "outputs": [
    {
     "name": "stdout",
     "output_type": "stream",
     "text": [
      "Program: blastp (2.16.0+)\n",
      "  Query: unnamed (123)\n",
      "         protein product\n",
      " Target: pdb\n",
      "   Hits: ----  -----  ----------------------------------------------------------\n",
      "            #  # HSP  ID + description\n",
      "         ----  -----  ----------------------------------------------------------\n",
      "            0      1  pdb|7CI3|A  Chain A, Orf7a protein [Severe acute respir...\n",
      "            1      1  pdb|1XAK|A  Chain A, SARS ORF7A ACCESSORY PROTEIN [Seve...\n",
      "            2      1  pdb|1YO4|A  Chain A, Hypothetical protein X4 [Severe ac...\n",
      "            3      1  pdb|6W37|A  Chain A, ORF7a protein [Severe acute respir...\n"
     ]
    }
   ],
   "source": [
    "print(blast)"
   ]
  },
  {
   "cell_type": "code",
   "execution_count": 16,
   "id": "2e65c8a0-4cb2-4a96-a790-51c57f0fa72d",
   "metadata": {
    "scrolled": true
   },
   "outputs": [
    {
     "name": "stdout",
     "output_type": "stream",
     "text": [
      "ID: pdb|7CI3|A\n",
      "Descrition: Chain A, Orf7a protein [Severe acute respiratory syndrome coronavirus 2]\n",
      "ID: 4.90126e-59\n",
      "ID: 177.948\n",
      "ID: Alignment with 2 rows and 83 columns\n",
      "TCELYHYQECVRGTTVLLKEPCSSGTYEGNSPFHPLADNKFALT...QEL unnamed\n",
      "TCELYHYQECVRGTTVLLKEPCSSGTYEGNSPFHPLADNKFALT...QEL pdb|7CI3|A\n",
      "\n",
      "ID: pdb|1XAK|A\n",
      "Descrition: Chain A, SARS ORF7A ACCESSORY PROTEIN [Severe acute respiratory syndrome coronavirus]\n",
      "ID: 1.79052e-51\n",
      "ID: 158.688\n",
      "ID: Alignment with 2 rows and 82 columns\n",
      "TCELYHYQECVRGTTVLLKEPCSSGTYEGNSPFHPLADNKFALT...VQE unnamed\n",
      "SCELYHYQECVRGTTVILKEPCPSGTYEGNSPFHPLADNKFALT...VQQ pdb|1XAK|A\n",
      "\n",
      "ID: pdb|1YO4|A\n",
      "Descrition: Chain A, Hypothetical protein X4 [Severe acute respiratory syndrome-related coronavirus]\n",
      "ID: 2.62563e-51\n",
      "ID: 158.303\n",
      "ID: Alignment with 2 rows and 84 columns\n",
      "ELYHYQECVRGTTVLLKEPCSSGTYEGNSPFHPLADNKFALTCF...LYS unnamed\n",
      "ELYHYQECVRGTTVLLKEPCPSGTYEGNSPFHPLADNKFALTCT...LYS pdb|1YO4|A\n",
      "\n",
      "ID: pdb|6W37|A\n",
      "Descrition: Chain A, ORF7a protein [Severe acute respiratory syndrome coronavirus 2]\n",
      "ID: 1.66395e-46\n",
      "ID: 145.591\n",
      "ID: Alignment with 2 rows and 67 columns\n",
      "ELYHYQECVRGTTVLLKEPCSSGTYEGNSPFHPLADNKFALTCF...RSV unnamed\n",
      "ELYHYQECVRGTTVLLKEPCSSGTYEGNSPFHPLADNKFALTCF...RSV pdb|6W37|A\n",
      "\n"
     ]
    }
   ],
   "source": [
    "for record in blast:\n",
    "    print(f\"ID: {record.id}\")\n",
    "    print(f\"Descrition: {record.description}\")\n",
    "    print(f\"ID: {record[0].evalue}\")\n",
    "    print(f\"ID: {record[0].bitscore}\")\n",
    "    print(f\"ID: {record[0].aln}\")\n",
    "    print()"
   ]
  },
  {
   "cell_type": "code",
   "execution_count": 109,
   "id": "8419e73a-39be-40fc-89da-6b844e621692",
   "metadata": {
    "scrolled": true
   },
   "outputs": [
    {
     "name": "stdout",
     "output_type": "stream",
     "text": [
      "--2024-07-11 18:07:53--  https://files.rcsb.org/download/7CI3.pdb\n",
      "Resolving files.rcsb.org (files.rcsb.org)... 128.6.159.157\n",
      "Connecting to files.rcsb.org (files.rcsb.org)|128.6.159.157|:443... connected.\n",
      "HTTP request sent, awaiting response... 200 OK\n",
      "Length: unspecified [application/octet-stream]\n",
      "Saving to: ‘7CI3.pdb’\n",
      "\n",
      "7CI3.pdb                [  <=>               ]  65.89K   229KB/s    in 0.3s    \n",
      "\n",
      "2024-07-11 18:07:54 (229 KB/s) - ‘7CI3.pdb’ saved [67473]\n",
      "\n"
     ]
    }
   ],
   "source": [
    "!wget https://files.rcsb.org/download/7CI3.pdb"
   ]
  },
  {
   "cell_type": "code",
   "execution_count": 17,
   "id": "67d5e7e3-de1a-4584-b9d9-bde5ee888e4b",
   "metadata": {},
   "outputs": [],
   "source": [
    "from Bio.PDB import PDBParser"
   ]
  },
  {
   "cell_type": "code",
   "execution_count": 18,
   "id": "39500e65-14d8-4eb4-ba91-1365aaedc65f",
   "metadata": {},
   "outputs": [
    {
     "data": {
      "text/plain": [
       "<Structure id=7CI3>"
      ]
     },
     "execution_count": 18,
     "metadata": {},
     "output_type": "execute_result"
    }
   ],
   "source": [
    "parser = PDBParser()\n",
    "structure = parser.get_structure(\"7CI3\", \"7CI3.pdb\")\n",
    "structure"
   ]
  },
  {
   "cell_type": "code",
   "execution_count": 19,
   "id": "7835987d-1b1c-4d9b-8f89-190fba4e93c9",
   "metadata": {},
   "outputs": [
    {
     "name": "stdout",
     "output_type": "stream",
     "text": [
      "chain id: A\n"
     ]
    }
   ],
   "source": [
    "for chain in structure[0]:\n",
    "    print(f\"chain id: {chain.id}\")"
   ]
  },
  {
   "cell_type": "code",
   "execution_count": 20,
   "id": "853e474b-235a-4319-870e-536498cd7c53",
   "metadata": {},
   "outputs": [
    {
     "data": {
      "application/vnd.jupyter.widget-view+json": {
       "model_id": "9a772f23273143f5b36e4fd4f26b422e",
       "version_major": 2,
       "version_minor": 0
      },
      "text/plain": []
     },
     "metadata": {},
     "output_type": "display_data"
    }
   ],
   "source": [
    "import nglview as nv"
   ]
  },
  {
   "cell_type": "code",
   "execution_count": 21,
   "id": "0132255f-d408-4e65-82b4-4d77b73859b3",
   "metadata": {},
   "outputs": [
    {
     "data": {
      "application/vnd.jupyter.widget-view+json": {
       "model_id": "9afd30de19fb4068ae9b74de36570dd2",
       "version_major": 2,
       "version_minor": 0
      },
      "text/plain": [
       "NGLWidget()"
      ]
     },
     "metadata": {},
     "output_type": "display_data"
    },
    {
     "data": {
      "application/vnd.jupyter.widget-view+json": {
       "model_id": "491f85c9d0284b06bb0ced56e5b0c67c",
       "version_major": 2,
       "version_minor": 0
      },
      "text/plain": [
       "Tab(children=(Box(children=(Box(children=(Box(children=(Label(value='step'), IntSlider(value=1, min=-100)), la…"
      ]
     },
     "metadata": {},
     "output_type": "display_data"
    }
   ],
   "source": [
    "nv.show_biopython(structure, gui=True) "
   ]
  }
 ],
 "metadata": {
  "kernelspec": {
   "display_name": "Python 3 (ipykernel)",
   "language": "python",
   "name": "python3"
  },
  "language_info": {
   "codemirror_mode": {
    "name": "ipython",
    "version": 3
   },
   "file_extension": ".py",
   "mimetype": "text/x-python",
   "name": "python",
   "nbconvert_exporter": "python",
   "pygments_lexer": "ipython3",
   "version": "3.12.3"
  }
 },
 "nbformat": 4,
 "nbformat_minor": 5
}
