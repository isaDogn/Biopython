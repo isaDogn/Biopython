{
 "cells": [
  {
   "cell_type": "code",
   "execution_count": 4,
   "id": "e24defd1-2988-4510-a66d-c8cd00c55010",
   "metadata": {},
   "outputs": [],
   "source": [
    "from Bio import SeqIO ,Entrez"
   ]
  },
  {
   "cell_type": "code",
   "execution_count": 6,
   "id": "cc5d2d3c-34c4-4fb3-b4fe-1ff32bed4fb6",
   "metadata": {},
   "outputs": [],
   "source": [
    "from Bio.SeqUtils import gc_fraction, molecular_weight"
   ]
  },
  {
   "cell_type": "code",
   "execution_count": 7,
   "id": "9a4dc137-3e64-4d2c-bf6b-7c8d125ae905",
   "metadata": {},
   "outputs": [],
   "source": [
    "from matplotlib import pyplot as plt"
   ]
  },
  {
   "cell_type": "code",
   "execution_count": 8,
   "id": "56696d86-4740-42f9-a4fd-12c879370c8f",
   "metadata": {},
   "outputs": [
    {
     "data": {
      "text/plain": [
       "[SeqRecord(seq=Seq('TTGACCAATGACCCCGGTTCCGGTTTCGCCGCAGTGTGGAATGCCGTCGTCGCT...TCG'), id='NC_008611.1', name='NC_008611.1', description='NC_008611.1 Mycobacterium ulcerans Agy99, complete sequence', dbxrefs=[]),\n",
       " SeqRecord(seq=Seq('ATGCCAGCACCGAGCGTGTTTGTCGGCCTGGAACTCGACACCAACAGTTACACC...GAT'), id='NC_005916.1', name='NC_005916.1', description='NC_005916.1 Mycobacterium ulcerans Agy99 plasmid pMUM001, complete sequence', dbxrefs=[])]"
      ]
     },
     "execution_count": 8,
     "metadata": {},
     "output_type": "execute_result"
    }
   ],
   "source": [
    "\n",
    "recs = list(SeqIO.parse(\"Ayg99.fasta\" , \"fasta\"))\n",
    "recs"
   ]
  },
  {
   "cell_type": "code",
   "execution_count": 9,
   "id": "8f8830e8-6a6d-4b18-8427-69a21d83d046",
   "metadata": {},
   "outputs": [],
   "source": [
    "Ayg99 = recs[0].seq"
   ]
  },
  {
   "cell_type": "code",
   "execution_count": 10,
   "id": "52b01aab-73f0-4707-8482-8c6198e40423",
   "metadata": {},
   "outputs": [
    {
     "data": {
      "text/plain": [
       "Seq('TTGACCAATGACCCCGGTTCCGGTTTCGCCGCAGTGTGGAATGCCGTCGTCGCT...TCG')"
      ]
     },
     "execution_count": 10,
     "metadata": {},
     "output_type": "execute_result"
    }
   ],
   "source": [
    "Ayg99"
   ]
  },
  {
   "cell_type": "code",
   "execution_count": 11,
   "id": "a85a50bc-d538-4f1a-b78b-6f5a994eaab7",
   "metadata": {},
   "outputs": [
    {
     "name": "stdout",
     "output_type": "stream",
     "text": [
      " Genome of Ayg99 Consist of 5631606 nuclotides\n"
     ]
    }
   ],
   "source": [
    "print(f\" Genome of Ayg99 Consist of {len(Ayg99)} nuclotides\")"
   ]
  },
  {
   "cell_type": "code",
   "execution_count": 12,
   "id": "63ea1dd1-46da-41b3-ba10-c4ed4a2c342a",
   "metadata": {},
   "outputs": [
    {
     "data": {
      "text/plain": [
       "1740059193.2067"
      ]
     },
     "execution_count": 12,
     "metadata": {},
     "output_type": "execute_result"
    }
   ],
   "source": [
    "molecular_weight(Ayg99)"
   ]
  },
  {
   "cell_type": "code",
   "execution_count": 13,
   "id": "ab1efe1d-4f2f-4610-acbb-ecaad4a2063e",
   "metadata": {},
   "outputs": [
    {
     "name": "stdout",
     "output_type": "stream",
     "text": [
      "GC conten of Covid-19: 65.47\n"
     ]
    }
   ],
   "source": [
    "print(f\"GC conten of Covid-19: {round(gc_fraction(Ayg99)*100 , 2)}\")"
   ]
  },
  {
   "cell_type": "code",
   "execution_count": 14,
   "id": "0ddd0167-24fb-480c-b87b-3898b6721b42",
   "metadata": {},
   "outputs": [],
   "source": [
    "count_nuc = {\n",
    "    \"A\" : Ayg99.count(\"A\"),\n",
    "    \"T\" : Ayg99.count(\"T\"),\n",
    "    \"C\" : Ayg99.count(\"C\"),\n",
    "    \"G\" : Ayg99.count(\"G\")\n",
    "}"
   ]
  },
  {
   "cell_type": "code",
   "execution_count": 15,
   "id": "a5c7ad96-687b-4baf-a96e-a813aebe1f92",
   "metadata": {},
   "outputs": [
    {
     "data": {
      "text/plain": [
       "{'A': 976432, 'T': 968010, 'C': 1850482, 'G': 1836682}"
      ]
     },
     "execution_count": 15,
     "metadata": {},
     "output_type": "execute_result"
    }
   ],
   "source": [
    "count_nuc"
   ]
  },
  {
   "cell_type": "code",
   "execution_count": 16,
   "id": "39e09cd1-d090-4a57-bca7-40d533c2438c",
   "metadata": {},
   "outputs": [
    {
     "data": {
      "text/plain": [
       "Text(0.5, 1.0, 'Amount of Nucleotide')"
      ]
     },
     "execution_count": 16,
     "metadata": {},
     "output_type": "execute_result"
    },
    {
     "data": {
      "image/png": "[encoded data removed]",
      "text/plain": [
       "<Figure size 640x480 with 1 Axes>"
      ]
     },
     "metadata": {},
     "output_type": "display_data"
    }
   ],
   "source": [
    "width = 0.5\n",
    "color = (\"b\",\"r\",\"m\",\"c\")\n",
    "plt.bar(count_nuc.keys(), count_nuc.values() , width ,color = color)\n",
    "plt.xlabel(\"Nuclotide\")\n",
    "plt.ylabel(\"Frequency\")\n",
    "plt.title(\"Amount of Nucleotide\")"
   ]
  },
  {
   "cell_type": "code",
   "execution_count": 17,
   "id": "a99f2d16-e8df-4cb5-b1f0-f85b0bc8f64e",
   "metadata": {},
   "outputs": [
    {
     "data": {
      "text/plain": [
       "Seq('UUGACCAAUGACCCCGGUUCCGGUUUCGCCGCAGUGUGGAAUGCCGUCGUCGCU...UCG')"
      ]
     },
     "execution_count": 17,
     "metadata": {},
     "output_type": "execute_result"
    }
   ],
   "source": [
    "Ayg_mrna = Ayg99.transcribe()\n",
    "Ayg_mrna"
   ]
  },
  {
   "cell_type": "code",
   "execution_count": 18,
   "id": "cfafde3f-f719-4b67-9176-e4ee68915869",
   "metadata": {},
   "outputs": [
    {
     "data": {
      "text/plain": [
       "Seq('LTNDPGSGFAAVWNAVVAELNGEPNTDGDAGTGTTLTSPLTPQQRAWLNLVQPL...DAS')"
      ]
     },
     "execution_count": 18,
     "metadata": {},
     "output_type": "execute_result"
    }
   ],
   "source": [
    "Ayg_aa = Ayg_mrna.translate()\n",
    "Ayg_aa"
   ]
  },
  {
   "cell_type": "code",
   "execution_count": 19,
   "id": "06adc47c-a5c6-4ba5-84b8-20653c34e985",
   "metadata": {},
   "outputs": [],
   "source": [
    "from collections import Counter"
   ]
  },
  {
   "cell_type": "code",
   "execution_count": 20,
   "id": "5e402d5c-7054-4185-858a-388ffa41745e",
   "metadata": {
    "scrolled": true
   },
   "outputs": [
    {
     "data": {
      "text/plain": [
       "Counter({'R': 270428,\n",
       "         'A': 212983,\n",
       "         'P': 175909,\n",
       "         'G': 175286,\n",
       "         'S': 164379,\n",
       "         'L': 112609,\n",
       "         'T': 109459,\n",
       "         'V': 107559,\n",
       "         'D': 69968,\n",
       "         'Q': 60011,\n",
       "         'H': 59680,\n",
       "         'C': 55116,\n",
       "         'I': 50080,\n",
       "         'E': 47895,\n",
       "         'W': 39042,\n",
       "         '*': 34580,\n",
       "         'N': 33476,\n",
       "         'F': 32618,\n",
       "         'K': 26058,\n",
       "         'M': 22135,\n",
       "         'Y': 17931})"
      ]
     },
     "execution_count": 20,
     "metadata": {},
     "output_type": "execute_result"
    }
   ],
   "source": [
    "Counter(Ayg_aa)"
   ]
  },
  {
   "cell_type": "code",
   "execution_count": 21,
   "id": "8004cd95-14c7-421c-a78b-6f90e1d9bb6c",
   "metadata": {},
   "outputs": [
    {
     "data": {
      "text/plain": [
       "Text(0.5, 1.0, 'Amino Acid Freaqunecy')"
      ]
     },
     "execution_count": 21,
     "metadata": {},
     "output_type": "execute_result"
    },
    {
     "data": {
      "image/png": "[encoded data removed]",
      "text/plain": [
       "<Figure size 640x480 with 1 Axes>"
      ]
     },
     "metadata": {},
     "output_type": "display_data"
    }
   ],
   "source": [
    "plt.bar(Counter(Ayg_aa).keys(), Counter(Ayg_aa).values(), color = color)\n",
    "plt.xlabel(\"Amino Acid\")\n",
    "plt.ylabel(\"Frequency\")\n",
    "plt.title(\"Amino Acid Freaqunecy\")"
   ]
  },
  {
   "cell_type": "code",
   "execution_count": 22,
   "id": "61bebc84-424e-49e9-84a6-61305e80f1fa",
   "metadata": {},
   "outputs": [
    {
     "name": "stdout",
     "output_type": "stream",
     "text": [
      " Ayg99 has 1877202 amino acids.\n"
     ]
    }
   ],
   "source": [
    "print(f\" Ayg99 has {sum(Counter(Ayg_aa).values())} amino acids.\")"
   ]
  },
  {
   "cell_type": "code",
   "execution_count": 26,
   "id": "6dce10fd-157a-4e07-8547-5764f454fd6c",
   "metadata": {
    "scrolled": true
   },
   "outputs": [
    {
     "name": "stdout",
     "output_type": "stream",
     "text": [
      " Ayg99 has a 34581 proteins. \n"
     ]
    },
    {
     "data": {
      "text/plain": [
       "[Seq('LTNDPGSGFAAVWNAVVAELNGEPNTDGDAGTGTTLTSPLTPQQRAWLNLVQPL...SKR'),\n",
       " Seq('SAASSSNFCKKLLSR'),\n",
       " Seq('SHELHDAGVCSPVHKRCRHSCNFRTGVHTARPIPNRPTQTTQPPAA'),\n",
       " Seq('STAPPVL'),\n",
       " Seq('LRQDPAVPRINTPYYCY'),\n",
       " Seq('DLFDDCSLKNSVGDIRYTASHRSACRLTCRH'),\n",
       " Seq('QRAFKFGLEALRLVFDCRCGRLGVTTRH'),\n",
       " Seq('RTKRSVPPAGGKVGSWIYGF'),\n",
       " Seq('THC'),\n",
       " Seq('VKGRNGRGYDTSWSHRLEISFGARVLRRCGVVGRKKLAHQACGAGAVGGVVDRL...LGF')]"
      ]
     },
     "execution_count": 26,
     "metadata": {},
     "output_type": "execute_result"
    }
   ],
   "source": [
    "proteins = Ayg_aa.split(\"*\")\n",
    "print(f\" Ayg99 has a {len(proteins)} proteins. \")\n",
    "proteins[:10]"
   ]
  },
  {
   "cell_type": "code",
   "execution_count": 24,
   "id": "e10baa69-afb1-4264-8efb-cae80b343f24",
   "metadata": {
    "scrolled": true
   },
   "outputs": [
    {
     "name": "stdout",
     "output_type": "stream",
     "text": [
      "SIRNLANHEQEQLSMTTSGESADQQNDKLFRYLKKVAVELDEARARLREYEQRATEPVAVVGIGCRFPGGADGPEGLWDLVSQGRDAVTEFPNDRGWDTEGLFDPDPDAEGKTYTRWGAFVENATNFDAGFFGIPPSEVLAMDPQQRLMLEVSWEALEHAGIDPMSLRGSSTGVFTGIFAPSYGGKDVGALQGYGLTGSPVSVASGRVAYVLGLEGPALSVDTACSSSLVAIHWAMASLRSGECDMALAGGVTVMGLPSIFVGFSRQRGLAADGRCKAFAAAADGTGWGEGAGVLVLERLSDAQRNGHNVLAVVRGSAINQDGASNGLTAPNGLTQQRVIQAALANCGLTSADVDVVEAHGTATTLGDPIEAEALLATYGQGRPTDQPLWVGSIKSNMGHTQAAAGVAGVIKMVQAMRHGLMPASLHVDEPSKRVDWESGAVSVLAEARDWPDAGRPRRAGVSSFGISGTNAHVILEEAPAPEAVPDSESNKGEPSLPVVPWVISARSAEALTAQAGRLLAHVQADPQSNPVDIGFSLAGRSAFEHRAVVVGADRQQLLTGLATLADGAPGAGVVTGQAGSVGKTAVVFPGQGSQRIGMARELHDQLPVFAEAFDAVADELDRHLRIPLCEVMWGSDVALLDSTEFAQAALFAVEVALFAALQRWGLQPDFVMGHSVGELSAAYVAGVLTLVDAAMLVVARGRLMQALPAGGAMVAVAAAEDEVLPSLTDGVGIAAINAPKSVVISGAEAAVTAISDQFAQQGRRVHRLAVSHAFHSPLMEPMLEEFARIAAQVEAREPQIALVSNVTGELASADGGFGSAQYWVEHVRRAVRFADSARQLHTLGVTHFVEVGPGSGLTGSIEQSLAPAEAVVVSMLGKDRPEVASVLTAFGQLFSTGMSVDWPAVFAGSGATRVDLPTYAFQRRRFWEVPGADGPADATGLGLGGAEHALLGAVVERPDSGGVVLTGRLALADQPWLADHVIGGVVLFPGAGFVELAIRAGDEVGCAVVEELVLAAPLVLHPGMGVQVQVIVGTADDSGNRALSVYSRGDKSEDWLLNAEGMLGVEAASSGADLSVWPPEGAESVDISDGYAQLADRGYAYGPGFQGLVGVWRRDSELFAEVVAPSGVAVDKMGMHPVVLDAVLHALGLTAEQNPDSDETKLPFCWRGVSLHAGGAGRVRARLTMSGPDSISVEIADAAGLPVLTVGALVTRAMSAAQLRAAVAEAGGGAPDQGPLDVIWSPIPLSGSGTNGSAQPAVVSWADFCAGGDGGAAGDAGVVVWEPNPAGEDVVGPVYAATHAALEVLQSWFDGDRAGTLVVLTHGAVAMPGENVSDLAGAAVWGIVRSAQAENPGRIVLVDADAAVEAAELVAVGEPQLVVRSGAAHAARLAPAAPLLAVPADESAWRLAAGGGGTLEDLVIEPCPEVQAPLAAGQVRVAVRAVGVNFRDVVAALGMYPGAAPPLGAEGAGVVLEVGPQVSGVAVGDSVMGFLGGAGPLSVVDQQLITRMPQGWSFAQAAAVPVVFLTALFGLQDLAKIQPGESVLIHAGTGGVGMAAVQLARHWGVEIFVTASRGKWDTLRAMGFDDDHIGDSRTLDFEEKFLAVTDGRGVDVVLDSLAGDFVDASLRLLVRGGRFLEMGKTDIRDADKIAANYPGVWYRAFDLSEAGPVRMQEMLAEVRELFDTAVLHRLPVTTWDVRCAPAAFRFMSQARHIGKVVLTMPSALADGLADATVLITGATGAVGAVLARHMLDGYGVRHLVLASRRGDRAEGAAELAAELSEAGANVQVVACDVADRDAVEAMLARLSGEYPPVRGVIHAAGVLDDAVISSLTPERIDTVLRAKVDAAWNLHEATLDLDLSMFVLCSSIAATVGSPGQGNYSAANSFLDGLAAHRQAAGLAGISVAWGLWEQSGGMAAHLSSRDLARMSRSGLAPMNPEQAVGLLDAVLAINHPLMVATLLDRPALEARAQAGGLPPLFAGVVRRPRRRQIEDTGDAAQSKSALAERLNGLSAGERQDALVGLVCLQAAAVLGRPSPEDIDPEAGFQDLGFDSLTAVELRNRFKSATGLTLPPTVIFDHPTPTAIAEYVGRQIPDSQATQAEEEKLPESDGEMVSVTA\n",
      "2118\n"
     ]
    }
   ],
   "source": [
    "longest_pro = sorted(proteins, key = len)[-1]\n",
    "print(longest_pro)\n",
    "print(len(longest_pro))"
   ]
  },
  {
   "cell_type": "code",
   "execution_count": 25,
   "id": "26b617c6-27a9-435a-b406-f1e547178e42",
   "metadata": {},
   "outputs": [],
   "source": [
    "with open(\"Ayg99_protesin_seq.fasta\" ,\"w\") as file:\n",
    "    file.write(f\">Ayg99 Protein\\n{proteins}\")"
   ]
  }
 ],
 "metadata": {
  "kernelspec": {
   "display_name": "Python 3 (ipykernel)",
   "language": "python",
   "name": "python3"
  },
  "language_info": {
   "codemirror_mode": {
    "name": "ipython",
    "version": 3
   },
   "file_extension": ".py",
   "mimetype": "text/x-python",
   "name": "python",
   "nbconvert_exporter": "python",
   "pygments_lexer": "ipython3",
   "version": "3.12.3"
  }
 },
 "nbformat": 4,
 "nbformat_minor": 5
}
